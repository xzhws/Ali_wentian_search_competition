{
 "cells": [
  {
   "cell_type": "code",
   "execution_count": 1,
   "id": "6f84c6fb",
   "metadata": {},
   "outputs": [],
   "source": [
    "import numpy as np\n",
    "import pandas as pd\n",
    "import os\n",
    "from tqdm import tqdm_notebook, tqdm\n",
    "import jieba"
   ]
  },
  {
   "cell_type": "code",
   "execution_count": null,
   "id": "e33ca682",
   "metadata": {},
   "outputs": [],
   "source": []
  },
  {
   "cell_type": "code",
   "execution_count": 2,
   "id": "ce2d0ba9",
   "metadata": {},
   "outputs": [],
   "source": [
    "# 读入数据，分析不同数据的情况\n",
    "# /home/zqxie/project/SimCSE-Chinese-Pytorch-main/datasets/tianchi_data/data_check.py\n",
    "corpus_data = pd.read_csv( \"./datasets/tianchi_data/corpus.tsv\", sep=\"\\t\", names=[\"doc\", \"title\"]) # doc文档\n",
    "dev_data = pd.read_csv(\"./datasets/tianchi_data/dev.query.txt\", sep=\"\\t\", names=[\"query\", \"title\"]) # 测试集 que文档\n",
    "train_data = pd.read_csv(\"./datasets/tianchi_data/train.query.txt\", sep=\"\\t\", names=[\"query\", \"title\"]) # 训练集que文档\n",
    "qrels = pd.read_csv(\"./datasets/tianchi_data/qrels.train.tsv\", sep=\"\\t\", names=[\"query\", \"doc\"]) # 一一对应还是一对多？\n",
    "# 训练集中唯一的query: 10w条\n",
    "# doc: 10w,query和doc是一一对应的"
   ]
  },
  {
   "cell_type": "code",
   "execution_count": 3,
   "id": "d035c94e",
   "metadata": {},
   "outputs": [],
   "source": [
    "corpus_data = corpus_data.set_index(\"doc\")\n",
    "dev_data = dev_data.set_index(\"query\")\n",
    "train_data = train_data.set_index(\"query\")\n",
    "qrels = qrels.set_index(\"query\")"
   ]
  },
  {
   "cell_type": "code",
   "execution_count": 4,
   "id": "c30016a8",
   "metadata": {},
   "outputs": [],
   "source": [
    "# 计算TF-IDF 词频 将高频词送入word2vec训练\n",
    "def time_out(x):\n",
    "    return list(jieba.cut(x))\n",
    "# 并行处理\n",
    "from joblib import Parallel, delayed\n",
    "corpus = Parallel(n_jobs=4)(delayed(time_out)(i) for i in corpus_data['title'])\n",
    "train = Parallel(n_jobs=4)(delayed(time_out)(i) for i in train_data['title'])\n",
    "test = Parallel(n_jobs=4)(delayed(time_out)(i) for i in dev_data['title'])"
   ]
  },
  {
   "cell_type": "code",
   "execution_count": 5,
   "id": "bc65f7c5",
   "metadata": {},
   "outputs": [
    {
     "data": {
      "text/plain": [
       "TfidfVectorizer(analyzer=<function <lambda> at 0x7fcbf0296488>, binary=False,\n",
       "                decode_error='strict', dtype=<class 'numpy.float64'>,\n",
       "                encoding='utf-8', input='content', lowercase=True, max_df=1.0,\n",
       "                max_features=None, min_df=1, ngram_range=(1, 1), norm='l2',\n",
       "                preprocessor=None, smooth_idf=True, stop_words=None,\n",
       "                strip_accents=None, sublinear_tf=False,\n",
       "                token_pattern='(?u)\\\\b\\\\w\\\\w+\\\\b', tokenizer=None, use_idf=True,\n",
       "                vocabulary=None)"
      ]
     },
     "execution_count": 5,
     "metadata": {},
     "output_type": "execute_result"
    }
   ],
   "source": [
    "from sklearn.feature_extraction.text import TfidfVectorizer\n",
    "idf = TfidfVectorizer(analyzer=lambda x: x)\n",
    "idf.fit(train+ corpus + test)"
   ]
  },
  {
   "cell_type": "code",
   "execution_count": 9,
   "id": "39b3a4fb",
   "metadata": {},
   "outputs": [],
   "source": [
    "idf_corpus = idf.transform(corpus)"
   ]
  },
  {
   "cell_type": "code",
   "execution_count": 51,
   "id": "110b115e",
   "metadata": {},
   "outputs": [
    {
     "name": "stderr",
     "output_type": "stream",
     "text": [
      "100%|██████████| 1001500/1001500 [04:29<00:00, 3720.26it/s]\n"
     ]
    }
   ],
   "source": [
    "import random\n",
    "from snownlp import SnowNLP\n",
    "\n",
    "IDF_THREAD = 7\n",
    "feature_names = np.array(idf.get_feature_names())\n",
    "corpus_final = []\n",
    "rate = 0.6\n",
    "with open('./data/unsupervised_data_random_cut_random_rate.txt', 'w') as up:\n",
    "    for i in tqdm(range(1,len(corpus)+1)):\n",
    "        doc = corpus_data.loc[i]['title']\n",
    "        doc = doc.strip()\n",
    "        # 转化为简体\n",
    "        doc = SnowNLP(doc).han\n",
    "        len_ = len(doc)\n",
    "        \n",
    "        random_rate = random.uniform(0.5, 0.8)\n",
    "        begin_idx = random.randint(0,len_-int(len_*random_rate))\n",
    "        doc_cur = doc[begin_idx:begin_idx+int(len_*random_rate)]\n",
    "#         print(doc, '\\n', doc_cur)\n",
    "        cur = '{}\\t{}'.format(doc_cur, doc)\n",
    "        if len(cur.strip().split(\"\\t\"))<2:\n",
    "            continue\n",
    "        else:\n",
    "            up.write('{}\\n'.format(cur))\n",
    "#         if i>100:\n",
    "#             break"
   ]
  },
  {
   "cell_type": "code",
   "execution_count": 49,
   "id": "fa5c14ed",
   "metadata": {},
   "outputs": [
    {
     "data": {
      "text/plain": [
       "0.6078519946860589"
      ]
     },
     "execution_count": 49,
     "metadata": {},
     "output_type": "execute_result"
    }
   ],
   "source": [
    "random.uniform(0.5, 0.8)"
   ]
  },
  {
   "cell_type": "code",
   "execution_count": 44,
   "id": "f2e6d441",
   "metadata": {},
   "outputs": [],
   "source": [
    "with open('./data/unsupervised_data.txt','r') as up:\n",
    "    lines = up.readlines()\n",
    "    for line in lines:\n",
    "        cur = line.strip().split(\"\\t\")\n",
    "        if len(cur)<2:\n",
    "            print(cur)\n",
    "            print(line)\n",
    "            break"
   ]
  },
  {
   "cell_type": "code",
   "execution_count": 36,
   "id": "6284ba37",
   "metadata": {},
   "outputs": [
    {
     "name": "stdout",
     "output_type": "stream",
     "text": [
      "番茄家代号链接      进群请看图进哦，～\n",
      "代号链接      进群请\n"
     ]
    }
   ],
   "source": [
    "doc = '      \t番茄家代号链接      进群请看图进哦，～'\n",
    "doc = doc.strip()\n",
    "len_ = len(doc)\n",
    "begin_idx = random.randint(0,len_-int(len_*rate))\n",
    "doc_cur = doc[begin_idx:begin_idx+int(len_*rate)]\n",
    "\n",
    "print(doc)\n",
    "print(doc_cur)"
   ]
  },
  {
   "cell_type": "code",
   "execution_count": null,
   "id": "5ceba540",
   "metadata": {},
   "outputs": [],
   "source": []
  }
 ],
 "metadata": {
  "kernelspec": {
   "display_name": "Python 3",
   "language": "python",
   "name": "python3"
  },
  "language_info": {
   "codemirror_mode": {
    "name": "ipython",
    "version": 3
   },
   "file_extension": ".py",
   "mimetype": "text/x-python",
   "name": "python",
   "nbconvert_exporter": "python",
   "pygments_lexer": "ipython3",
   "version": "3.6.10"
  }
 },
 "nbformat": 4,
 "nbformat_minor": 5
}
